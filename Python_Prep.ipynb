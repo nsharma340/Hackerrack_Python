{
 "cells": [
  {
   "cell_type": "markdown",
   "id": "461d6826-9fa6-49b3-a6ae-49ed6b857dad",
   "metadata": {},
   "source": [
    "### 1. Loops\n",
    "\n",
    "The provided code stub reads and integer, n, from STDIN. For all non-negative integers i < n, print i^2.\n",
    "\n",
    "Example\n",
    "\n",
    "n = 3\n",
    "\n",
    "The list of non-negative integers less than  n = 3 is [0, 1, 2]. Print the square of each number on a separate line.\n",
    "\n",
    "0\n",
    "1\n",
    "4\n",
    "\n",
    "Input Format\n",
    "\n",
    "The first and only line contains the integer, n.\n",
    "\n",
    "Constraints\n",
    "\n",
    "1 <= n <= 20\n",
    "\n",
    "Output Format\n",
    "\n",
    "Print n lines, one corresponding to each i.\n",
    "\n",
    "Sample Input 0\n",
    "\n",
    "5\n",
    "\n",
    "Sample Output 0\n",
    "\n",
    "0\n",
    "1\n",
    "4\n",
    "9\n",
    "16"
   ]
  },
  {
   "cell_type": "code",
   "execution_count": 1,
   "id": "7231ec22-319d-4454-9d7e-b1c139b45ecb",
   "metadata": {},
   "outputs": [
    {
     "name": "stdin",
     "output_type": "stream",
     "text": [
      " 3\n"
     ]
    },
    {
     "name": "stdout",
     "output_type": "stream",
     "text": [
      "0\n",
      "1\n",
      "4\n"
     ]
    }
   ],
   "source": [
    "n = int(input())\n",
    "    \n",
    "for i in range(n):\n",
    "    print(i**2)"
   ]
  },
  {
   "cell_type": "markdown",
   "id": "912b394e-c741-4638-b38c-79d59a5f68ad",
   "metadata": {},
   "source": [
    "### 2. Print Function\n",
    "\n",
    "The included code stub will read an integer, n, from STDIN.\n",
    "\n",
    "Without using any string methods, try to print the following:\n",
    "\n",
    "123...n\n",
    "\n",
    "Note that \"...\" represents the consecutive values in between.\n",
    "\n",
    "Example\n",
    "\n",
    "n = 5\n",
    "\n",
    "Print the string 12345.\n",
    "\n",
    "Input Format\n",
    "\n",
    "The first line contains an integer n.\n",
    "\n",
    "Constraints\n",
    "\n",
    "1 <= n <= 150\n",
    "\n",
    "Output Format\n",
    "\n",
    "Print the list of integers from 1 through n as a string, without spaces.\n",
    "\n",
    "Sample Input 0\n",
    "\n",
    "3\n",
    "Sample Output 0\n",
    "\n",
    "123"
   ]
  },
  {
   "cell_type": "code",
   "execution_count": 7,
   "id": "fbfa9d46-b3e2-4f08-90b5-6f9e79a5e403",
   "metadata": {},
   "outputs": [
    {
     "name": "stdin",
     "output_type": "stream",
     "text": [
      " 3\n"
     ]
    },
    {
     "name": "stdout",
     "output_type": "stream",
     "text": [
      "123"
     ]
    }
   ],
   "source": [
    "n = int(input())\n",
    "for i in range(1, n+1):\n",
    "    print(i, end = '')"
   ]
  },
  {
   "cell_type": "markdown",
   "id": "1f3fe5de-9096-418a-bda5-12f0a40e4cee",
   "metadata": {},
   "source": [
    "### 3. Check Subset\n",
    "\n",
    "You are given the firstname and lastname of a person on two different lines. Your task is to read them and print the following:\n",
    "\n",
    "Hello firstname lastname! You just delved into python.\n",
    "\n",
    "Function Description\n",
    "\n",
    "Complete the print_full_name function in the editor below.\n",
    "\n",
    "print_full_name has the following parameters:\n",
    "\n",
    "string first: the first name\n",
    "string last: the last name\n",
    "\n",
    "Prints\n",
    "\n",
    "* string: 'Hello firstname lastname! You just delved into python' where firstname and lastname are replaced with first and last.\n",
    "Input Format\n",
    "\n",
    "The first line contains the first name, and the second line contains the last name.\n",
    "\n",
    "Constraints\n",
    "\n",
    "The length of the first and last names are each ≤ 10.\n",
    "\n",
    "Sample Input 0\n",
    "\n",
    "Ross\n",
    "Taylor\n",
    "Sample Output 0\n",
    "\n",
    "Hello Ross Taylor! You just delved into python.\n",
    "Explanation 0\n",
    "\n",
    "The input read by the program is stored as a string data type. A string is a collection of characters."
   ]
  },
  {
   "cell_type": "code",
   "execution_count": 14,
   "id": "58ed7e29-a4a1-49cf-85ae-b86ddd0df366",
   "metadata": {},
   "outputs": [
    {
     "name": "stdin",
     "output_type": "stream",
     "text": [
      " Neha\n",
      " Sharma\n"
     ]
    },
    {
     "name": "stdout",
     "output_type": "stream",
     "text": [
      "Hello Neha Sharma! You just delved into python.\n"
     ]
    }
   ],
   "source": [
    "def print_full_name(first, last):\n",
    "    # Write your code here\n",
    "    print(f\"Hello {first} {last}! You just delved into python.\")\n",
    "if __name__ == '__main__':\n",
    "    first_name = input()\n",
    "    last_name = input()\n",
    "    print_full_name(first_name, last_name)"
   ]
  },
  {
   "cell_type": "markdown",
   "id": "92ca9ecf-9891-4b9f-bd06-8d0a2c5b936c",
   "metadata": {},
   "source": [
    "### 4. Python If-Else\n",
    "\n",
    "Task\n",
    "Given an integer, n, perform the following conditional actions:\n",
    "\n",
    "* If n is odd, print Weird\n",
    "* If n is even and in the inclusive range of 2 to 5, print Not Weird\n",
    "* If n is even and in the inclusive range of 6 to 20, print Weird\n",
    "* If n is even and greater than 20, print Not Weird\n",
    "\n",
    "Input Format\n",
    "\n",
    "A single line containing a positive integer, n.\n",
    "\n",
    "Constraints\n",
    "* 1 <= n <= 100\n",
    "  \n",
    "Output Format\n",
    "\n",
    "Print Weird if the number is weird. Otherwise, print Not Weird.\n",
    "\n",
    "Sample Input 0\n",
    "3\n",
    "\n",
    "Sample Output 0\n",
    "\n",
    "Weird\n",
    "Explanation 0\n",
    "n = 3\n",
    "\n",
    "n is odd and odd numbers are weird, so print Weird.\n",
    "\n",
    "Sample Input 1\n",
    "\n",
    "24\n",
    "Sample Output 1\n",
    "\n",
    "Not Weird\n",
    "Explanation 1\n",
    "n = 24 \n",
    "\n",
    "n > 20 and n is even, so it is not weird."
   ]
  },
  {
   "cell_type": "code",
   "execution_count": 3,
   "id": "830e358c-e830-4fae-8015-1d7133e80ae6",
   "metadata": {},
   "outputs": [
    {
     "name": "stdin",
     "output_type": "stream",
     "text": [
      " 3\n"
     ]
    },
    {
     "name": "stdout",
     "output_type": "stream",
     "text": [
      "Weird\n"
     ]
    }
   ],
   "source": [
    "n = int(input().strip())\n",
    "    \n",
    "    # Check conditions based on the value of n\n",
    "if n % 2 != 0:\n",
    "    print(\"Weird\")\n",
    "elif 2 <= n <= 5:\n",
    "    print(\"Not Weird\")\n",
    "elif 6 <= n <= 20:\n",
    "    print(\"Weird\")\n",
    "else:\n",
    "    print(\"Not Weird\")"
   ]
  },
  {
   "cell_type": "code",
   "execution_count": null,
   "id": "960092df-1edb-473d-9218-860d6f0d2d20",
   "metadata": {},
   "outputs": [],
   "source": []
  }
 ],
 "metadata": {
  "kernelspec": {
   "display_name": "Python 3 (ipykernel)",
   "language": "python",
   "name": "python3"
  },
  "language_info": {
   "codemirror_mode": {
    "name": "ipython",
    "version": 3
   },
   "file_extension": ".py",
   "mimetype": "text/x-python",
   "name": "python",
   "nbconvert_exporter": "python",
   "pygments_lexer": "ipython3",
   "version": "3.12.4"
  }
 },
 "nbformat": 4,
 "nbformat_minor": 5
}
