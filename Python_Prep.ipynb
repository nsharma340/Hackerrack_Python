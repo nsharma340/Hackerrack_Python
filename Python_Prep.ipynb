{
 "cells": [
  {
   "cell_type": "markdown",
   "id": "461d6826-9fa6-49b3-a6ae-49ed6b857dad",
   "metadata": {},
   "source": [
    "### 1. Loops\n",
    "\n",
    "The provided code stub reads and integer, n, from STDIN. For all non-negative integers i < n, print i^2.\n",
    "\n",
    "Example\n",
    "\n",
    "n = 3\n",
    "\n",
    "The list of non-negative integers less than  n = 3 is [0, 1, 2]. Print the square of each number on a separate line.\n",
    "\n",
    "0\n",
    "1\n",
    "4\n",
    "\n",
    "Input Format\n",
    "\n",
    "The first and only line contains the integer, n.\n",
    "\n",
    "Constraints\n",
    "\n",
    "1 <= n <= 20\n",
    "\n",
    "Output Format\n",
    "\n",
    "Print n lines, one corresponding to each i.\n",
    "\n",
    "Sample Input 0\n",
    "\n",
    "5\n",
    "\n",
    "Sample Output 0\n",
    "\n",
    "0\n",
    "1\n",
    "4\n",
    "9\n",
    "16"
   ]
  },
  {
   "cell_type": "code",
   "execution_count": 1,
   "id": "7231ec22-319d-4454-9d7e-b1c139b45ecb",
   "metadata": {},
   "outputs": [
    {
     "name": "stdin",
     "output_type": "stream",
     "text": [
      " 3\n"
     ]
    },
    {
     "name": "stdout",
     "output_type": "stream",
     "text": [
      "0\n",
      "1\n",
      "4\n"
     ]
    }
   ],
   "source": [
    "n = int(input())\n",
    "    \n",
    "for i in range(n):\n",
    "    print(i**2)"
   ]
  },
  {
   "cell_type": "code",
   "execution_count": null,
   "id": "83dcf5c4-35f0-4150-bbd2-365b6c661148",
   "metadata": {},
   "outputs": [],
   "source": []
  }
 ],
 "metadata": {
  "kernelspec": {
   "display_name": "Python 3 (ipykernel)",
   "language": "python",
   "name": "python3"
  },
  "language_info": {
   "codemirror_mode": {
    "name": "ipython",
    "version": 3
   },
   "file_extension": ".py",
   "mimetype": "text/x-python",
   "name": "python",
   "nbconvert_exporter": "python",
   "pygments_lexer": "ipython3",
   "version": "3.12.4"
  }
 },
 "nbformat": 4,
 "nbformat_minor": 5
}
